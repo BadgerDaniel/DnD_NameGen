{
 "cells": [
  {
   "cell_type": "code",
   "execution_count": 3,
   "id": "209646f9",
   "metadata": {
    "ExecuteTime": {
     "end_time": "2024-07-09T00:32:48.320333Z",
     "start_time": "2024-07-09T00:32:48.316411Z"
    }
   },
   "outputs": [],
   "source": [
    "import pandas as pd \n",
    "import random as rm\n",
    "import numpy as np\n",
    "#import will2live"
   ]
  },
  {
   "cell_type": "code",
   "outputs": [],
   "source": [
    "# olaf quickfinger\n",
    "# Ganut lazylust\n",
    "# Beyla Anchorrib\n",
    "# Cameron Leatherfist"
   ],
   "metadata": {
    "collapsed": false
   },
   "id": "ddafd33e371832a8"
  },
  {
   "cell_type": "code",
   "execution_count": 4,
   "id": "a5e3cbbd",
   "metadata": {
    "ExecuteTime": {
     "end_time": "2024-07-09T00:32:48.766457Z",
     "start_time": "2024-07-09T00:32:48.758027Z"
    }
   },
   "outputs": [],
   "source": [
    "df=pd.read_csv('NameGenerator.csv')"
   ]
  },
  {
   "cell_type": "code",
   "execution_count": 5,
   "id": "db3ccf9f",
   "metadata": {
    "ExecuteTime": {
     "end_time": "2024-07-09T00:32:49.033220Z",
     "start_time": "2024-07-09T00:32:49.028870Z"
    }
   },
   "outputs": [],
   "source": [
    "df.columns\n",
    "df.drop(['No.'],axis=1,inplace=True)"
   ]
  },
  {
   "cell_type": "code",
   "execution_count": 6,
   "id": "96aee8ed",
   "metadata": {
    "ExecuteTime": {
     "end_time": "2024-07-09T00:32:50.545717Z",
     "start_time": "2024-07-09T00:32:50.535488Z"
    }
   },
   "outputs": [
    {
     "data": {
      "text/plain": "    First Name Epithet (a) Noun (a) Epithet (b) Noun (b)\n0          Jon       Black     hand        Blue    staff\n1         Jana       White   finger       Noble    crest\n2     Dragomir        Gold     fist   Lightning  catcher\n3          Wes      Silver   tongue         Cat  fetcher\n4        Arron      Bronze    beard        Tide  fighter\n..         ...         ...      ...         ...      ...\n203     Specky      Spruce   scythe       Murky     moat\n204      Peggy      Poison  chalice       Tough   mutton\n205      Hamil      Beacon   keeper      Falcon    flare\n206     Bethel         Far    flung    Mountain     lair\n207     Aldric       Apple    house       Demon  scorned\n\n[208 rows x 5 columns]",
      "text/html": "<div>\n<style scoped>\n    .dataframe tbody tr th:only-of-type {\n        vertical-align: middle;\n    }\n\n    .dataframe tbody tr th {\n        vertical-align: top;\n    }\n\n    .dataframe thead th {\n        text-align: right;\n    }\n</style>\n<table border=\"1\" class=\"dataframe\">\n  <thead>\n    <tr style=\"text-align: right;\">\n      <th></th>\n      <th>First Name</th>\n      <th>Epithet (a)</th>\n      <th>Noun (a)</th>\n      <th>Epithet (b)</th>\n      <th>Noun (b)</th>\n    </tr>\n  </thead>\n  <tbody>\n    <tr>\n      <th>0</th>\n      <td>Jon</td>\n      <td>Black</td>\n      <td>hand</td>\n      <td>Blue</td>\n      <td>staff</td>\n    </tr>\n    <tr>\n      <th>1</th>\n      <td>Jana</td>\n      <td>White</td>\n      <td>finger</td>\n      <td>Noble</td>\n      <td>crest</td>\n    </tr>\n    <tr>\n      <th>2</th>\n      <td>Dragomir</td>\n      <td>Gold</td>\n      <td>fist</td>\n      <td>Lightning</td>\n      <td>catcher</td>\n    </tr>\n    <tr>\n      <th>3</th>\n      <td>Wes</td>\n      <td>Silver</td>\n      <td>tongue</td>\n      <td>Cat</td>\n      <td>fetcher</td>\n    </tr>\n    <tr>\n      <th>4</th>\n      <td>Arron</td>\n      <td>Bronze</td>\n      <td>beard</td>\n      <td>Tide</td>\n      <td>fighter</td>\n    </tr>\n    <tr>\n      <th>...</th>\n      <td>...</td>\n      <td>...</td>\n      <td>...</td>\n      <td>...</td>\n      <td>...</td>\n    </tr>\n    <tr>\n      <th>203</th>\n      <td>Specky</td>\n      <td>Spruce</td>\n      <td>scythe</td>\n      <td>Murky</td>\n      <td>moat</td>\n    </tr>\n    <tr>\n      <th>204</th>\n      <td>Peggy</td>\n      <td>Poison</td>\n      <td>chalice</td>\n      <td>Tough</td>\n      <td>mutton</td>\n    </tr>\n    <tr>\n      <th>205</th>\n      <td>Hamil</td>\n      <td>Beacon</td>\n      <td>keeper</td>\n      <td>Falcon</td>\n      <td>flare</td>\n    </tr>\n    <tr>\n      <th>206</th>\n      <td>Bethel</td>\n      <td>Far</td>\n      <td>flung</td>\n      <td>Mountain</td>\n      <td>lair</td>\n    </tr>\n    <tr>\n      <th>207</th>\n      <td>Aldric</td>\n      <td>Apple</td>\n      <td>house</td>\n      <td>Demon</td>\n      <td>scorned</td>\n    </tr>\n  </tbody>\n</table>\n<p>208 rows × 5 columns</p>\n</div>"
     },
     "execution_count": 6,
     "metadata": {},
     "output_type": "execute_result"
    }
   ],
   "source": [
    "df.rename(columns={'+ Noun (a)':'Noun (a)','+ Noun (b)':'Noun (b)'},inplace=True)\n",
    "df"
   ]
  },
  {
   "cell_type": "code",
   "outputs": [],
   "source": [
    "#  define the varied naming methods\n",
    "methods = [\n",
    "    lambda row: f\"{row['First Name']} {row['Epithet (a)']}-{row['Noun (a)']}\",\n",
    "    lambda row: f\"{row['First Name']} {row['Epithet (b)']}-{row['Noun (b)']}\",\n",
    "    lambda row: f\"{row['First Name']} {row['Epithet (a)']}-{row['Noun (b)']}\",\n",
    "    lambda row: f\"{row['First Name']} {row['Epithet (b)']}-{row['Noun (a)']}\",\n",
    "    lambda row: f\"{row['First Name']} The {row['Epithet (a)'].capitalize()}\",\n",
    "    lambda row: f\"{row['First Name']} The {row['Epithet (b)'].capitalize()}\",\n",
    "    lambda row: f\"{row['First Name']} The {row['Noun (a)'].capitalize()}\",\n",
    "    lambda row: f\"{row['First Name']} The {row['Noun (b)'].capitalize()}\",\n",
    "]"
   ],
   "metadata": {
    "collapsed": false,
    "ExecuteTime": {
     "end_time": "2024-07-09T00:37:30.870620Z",
     "start_time": "2024-07-09T00:37:30.864641Z"
    }
   },
   "id": "450cba2761960e1d",
   "execution_count": 21
  },
  {
   "cell_type": "code",
   "execution_count": 25,
   "id": "c0755cf6",
   "metadata": {
    "ExecuteTime": {
     "end_time": "2024-07-09T00:37:45.176393Z",
     "start_time": "2024-07-09T00:37:45.169700Z"
    }
   },
   "outputs": [
    {
     "name": "stdout",
     "output_type": "stream",
     "text": [
      "Clem(ence) The Calm\n",
      "Jesper The Loyal\n",
      "Joris The Gift\n",
      "Olaf The Heart\n",
      "Yunis Hound-breath\n"
     ]
    }
   ],
   "source": [
    "# Function to generate 5 names\n",
    "def generate_names(df, n=5):\n",
    "    names = []\n",
    "    for _ in range(n):\n",
    "        row = df.sample().iloc[0]  # Randomly pick a row\n",
    "        method = rm.choice(methods)  # Randomly pick a method\n",
    "        name = method(row)\n",
    "        names.append(name)\n",
    "    return sorted(names)  # Sort names alphabetically\n",
    "\n",
    "# Generate and print 5 names\n",
    "names = generate_names(df)\n",
    "for name in names:\n",
    "    print(name)"
   ]
  },
  {
   "cell_type": "markdown",
   "source": [
    "Oswin Spirit horn\n",
    "Roisin The dart\n",
    "Tegen The town\n",
    "Wilber The Wild"
   ],
   "metadata": {
    "collapsed": false
   },
   "id": "234323c8c4c23c58"
  },
  {
   "cell_type": "code",
   "outputs": [],
   "source": [],
   "metadata": {
    "collapsed": false
   },
   "id": "7d2e4fb2a892447b"
  }
 ],
 "metadata": {
  "kernelspec": {
   "display_name": "Python 3 (ipykernel)",
   "language": "python",
   "name": "python3"
  },
  "language_info": {
   "codemirror_mode": {
    "name": "ipython",
    "version": 3
   },
   "file_extension": ".py",
   "mimetype": "text/x-python",
   "name": "python",
   "nbconvert_exporter": "python",
   "pygments_lexer": "ipython3",
   "version": "3.9.12"
  }
 },
 "nbformat": 4,
 "nbformat_minor": 5
}
